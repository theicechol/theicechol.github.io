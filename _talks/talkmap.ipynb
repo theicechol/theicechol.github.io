{
 "cells": [
  {
   "cell_type": "markdown",
   "metadata": {},
   "source": [
    "# Leaflet cluster map of talk locations\n",
    "\n",
    "Run this from the _talks/ directory, which contains .md files of all your talks. This scrapes the location YAML field from each .md file, geolocates it with geopy/Nominatim, and uses the getorg library to output data, HTML, and Javascript for a standalone cluster map."
   ]
  },
  {
   "cell_type": "code",
   "execution_count": 1,
   "metadata": {
    "collapsed": false,
    "jupyter": {
     "outputs_hidden": false
    },
    "tags": []
   },
   "outputs": [
    {
     "name": "stdout",
     "output_type": "stream",
     "text": [
      "Requirement already satisfied: getorg in c:\\users\\cholp\\miniconda3\\lib\\site-packages (0.3.1)\n",
      "Requirement already satisfied: geopy in c:\\users\\cholp\\miniconda3\\lib\\site-packages (from getorg) (2.4.1)\n",
      "Requirement already satisfied: pygithub in c:\\users\\cholp\\miniconda3\\lib\\site-packages (from getorg) (2.3.0)\n",
      "Requirement already satisfied: retrying in c:\\users\\cholp\\miniconda3\\lib\\site-packages (from getorg) (1.3.4)\n",
      "Requirement already satisfied: geographiclib<3,>=1.52 in c:\\users\\cholp\\miniconda3\\lib\\site-packages (from geopy->getorg) (2.0)\n",
      "Requirement already satisfied: pynacl>=1.4.0 in c:\\users\\cholp\\miniconda3\\lib\\site-packages (from pygithub->getorg) (1.5.0)\n",
      "Requirement already satisfied: requests>=2.14.0 in c:\\users\\cholp\\miniconda3\\lib\\site-packages (from pygithub->getorg) (2.31.0)\n",
      "Requirement already satisfied: pyjwt[crypto]>=2.4.0 in c:\\users\\cholp\\miniconda3\\lib\\site-packages (from pygithub->getorg) (2.8.0)\n",
      "Requirement already satisfied: typing-extensions>=4.0.0 in c:\\users\\cholp\\miniconda3\\lib\\site-packages (from pygithub->getorg) (4.7.1)\n",
      "Requirement already satisfied: urllib3>=1.26.0 in c:\\users\\cholp\\miniconda3\\lib\\site-packages (from pygithub->getorg) (1.26.16)\n",
      "Requirement already satisfied: Deprecated in c:\\users\\cholp\\miniconda3\\lib\\site-packages (from pygithub->getorg) (1.2.14)\n",
      "Requirement already satisfied: six>=1.7.0 in c:\\users\\cholp\\miniconda3\\lib\\site-packages (from retrying->getorg) (1.16.0)\n",
      "Requirement already satisfied: cryptography>=3.4.0 in c:\\users\\cholp\\miniconda3\\lib\\site-packages (from pyjwt[crypto]>=2.4.0->pygithub->getorg) (39.0.1)\n",
      "Requirement already satisfied: cffi>=1.4.1 in c:\\users\\cholp\\miniconda3\\lib\\site-packages (from pynacl>=1.4.0->pygithub->getorg) (1.15.1)\n",
      "Requirement already satisfied: charset-normalizer<4,>=2 in c:\\users\\cholp\\miniconda3\\lib\\site-packages (from requests>=2.14.0->pygithub->getorg) (2.0.4)\n",
      "Requirement already satisfied: idna<4,>=2.5 in c:\\users\\cholp\\miniconda3\\lib\\site-packages (from requests>=2.14.0->pygithub->getorg) (3.4)\n",
      "Requirement already satisfied: certifi>=2017.4.17 in c:\\users\\cholp\\miniconda3\\lib\\site-packages (from requests>=2.14.0->pygithub->getorg) (2023.7.22)\n",
      "Requirement already satisfied: wrapt<2,>=1.10 in c:\\users\\cholp\\miniconda3\\lib\\site-packages (from Deprecated->pygithub->getorg) (1.15.0)\n",
      "Requirement already satisfied: pycparser in c:\\users\\cholp\\miniconda3\\lib\\site-packages (from cffi>=1.4.1->pynacl>=1.4.0->pygithub->getorg) (2.21)\n",
      "Iywidgets and ipyleaflet support disabled. You must be in a Jupyter notebook to use this feature.\n",
      "Error raised:\n",
      "No module named 'ipywidgets'\n",
      "Check that you have enabled ipyleaflet in Jupyter with:\n",
      "    jupyter nbextension enable --py ipyleaflet\n"
     ]
    }
   ],
   "source": [
    "!pip install getorg --upgrade\n",
    "import glob\n",
    "import getorg\n",
    "from geopy import Nominatim"
   ]
  },
  {
   "cell_type": "code",
   "execution_count": 2,
   "metadata": {
    "collapsed": false,
    "jupyter": {
     "outputs_hidden": false
    },
    "tags": []
   },
   "outputs": [],
   "source": [
    "g = glob.glob(\"*.md\")"
   ]
  },
  {
   "cell_type": "code",
   "execution_count": 3,
   "metadata": {
    "tags": []
   },
   "outputs": [],
   "source": [
    "geocoder = Nominatim(user_agent=\"Ice\")\n",
    "location_dict = {}\n",
    "location = \"\"\n",
    "permalink = \"\"\n",
    "title = \"\""
   ]
  },
  {
   "cell_type": "code",
   "execution_count": 5,
   "metadata": {
    "collapsed": false,
    "jupyter": {
     "outputs_hidden": false
    },
    "tags": []
   },
   "outputs": [
    {
     "name": "stdout",
     "output_type": "stream",
     "text": [
      "Tsukuba, Japan \n",
      " つくば市, 茨城県, 日本\n",
      "Lindau, Germany \n",
      " Lindau (Bodensee), Landkreis Lindau, Bayern, 88131, Deutschland\n",
      "Jeju, South Korea \n",
      " 제주도, 비법정탐방로, 제주시, 제주특별자치도, 63244, 대한민국\n",
      "Virtual \n",
      " Virtual, 6, Via Giuseppe Massarenti, Cirenaica, San Donato-San Vitale, Bologna, Emilia-Romagna, 40138, Italia\n",
      "Virtual \n",
      " Virtual, 6, Via Giuseppe Massarenti, Cirenaica, San Donato-San Vitale, Bologna, Emilia-Romagna, 40138, Italia\n",
      "Virtual \n",
      " Virtual, 6, Via Giuseppe Massarenti, Cirenaica, San Donato-San Vitale, Bologna, Emilia-Romagna, 40138, Italia\n",
      "United Kingdom \n",
      " United Kingdom\n",
      "Virtual \n",
      " Virtual, 6, Via Giuseppe Massarenti, Cirenaica, San Donato-San Vitale, Bologna, Emilia-Romagna, 40138, Italia\n",
      "Suzhou, China \n",
      " 苏州市, 江苏省, 中国\n",
      "Bangkok, Thailand \n",
      " กรุงเทพมหานคร, 10200, ประเทศไทย\n",
      "Bangkok, Thailand \n",
      " กรุงเทพมหานคร, 10200, ประเทศไทย\n",
      "Rayong, Thailand \n",
      " จังหวัดระยอง, ประเทศไทย\n",
      "Arlington, Virginia \n",
      " Arlington County, Virginia, United States\n",
      "Berkeley, California \n",
      " Berkeley, Alameda County, California, United States\n",
      "Berkeley, California \n",
      " Berkeley, Alameda County, California, United States\n",
      "Phoenix, Arizona \n",
      " Phoenix, Maricopa County, Arizona, United States\n",
      "Mt. Rainier, Washington \n",
      " Mount Rainier, Pierce County, Washington, United States\n",
      "Seattle, Washington \n",
      " Seattle, King County, Washington, United States\n",
      "Bethesda, Maryland \n",
      " Bethesda, Montgomery County, Maryland, United States\n",
      "Portland, Oregon \n",
      " Portland, Multnomah County, Oregon, United States\n",
      "Los Angeles, California \n",
      " Los Angeles, California, United States\n",
      "Evanston, Illinois \n",
      " Evanston, Evanston Township, Cook County, Illinois, United States\n",
      "Virtual \n",
      " Virtual, 6, Via Giuseppe Massarenti, Cirenaica, San Donato-San Vitale, Bologna, Emilia-Romagna, 40138, Italia\n"
     ]
    }
   ],
   "source": [
    "\n",
    "for file in g:\n",
    "    with open(file, 'r') as f:\n",
    "        lines = f.read()\n",
    "        if lines.find('location: \"') > 1:\n",
    "            loc_start = lines.find('location: \"') + 11\n",
    "            lines_trim = lines[loc_start:]\n",
    "            loc_end = lines_trim.find('\"')\n",
    "            location = lines_trim[:loc_end]\n",
    "                            \n",
    "           \n",
    "        location_dict[location] = geocoder.geocode(location)\n",
    "        print(location, \"\\n\", location_dict[location])\n"
   ]
  },
  {
   "cell_type": "code",
   "execution_count": 6,
   "metadata": {
    "collapsed": false,
    "jupyter": {
     "outputs_hidden": false
    },
    "tags": []
   },
   "outputs": [
    {
     "data": {
      "text/plain": [
       "'Written map to ../talkmap/'"
      ]
     },
     "execution_count": 6,
     "metadata": {},
     "output_type": "execute_result"
    }
   ],
   "source": [
    "m = getorg.orgmap.create_map_obj()\n",
    "getorg.orgmap.output_html_cluster_map(location_dict, folder_name=\"../talkmap\", hashed_usernames=False)"
   ]
  },
  {
   "cell_type": "code",
   "execution_count": null,
   "metadata": {
    "collapsed": true,
    "jupyter": {
     "outputs_hidden": true
    }
   },
   "outputs": [],
   "source": []
  }
 ],
 "metadata": {
  "anaconda-cloud": {},
  "kernelspec": {
   "display_name": "Python 3 (ipykernel)",
   "language": "python",
   "name": "python3"
  },
  "language_info": {
   "codemirror_mode": {
    "name": "ipython",
    "version": 3
   },
   "file_extension": ".py",
   "mimetype": "text/x-python",
   "name": "python",
   "nbconvert_exporter": "python",
   "pygments_lexer": "ipython3",
   "version": "3.11.4"
  }
 },
 "nbformat": 4,
 "nbformat_minor": 4
}
